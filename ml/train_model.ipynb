{
 "cells": [
  {
   "metadata": {},
   "cell_type": "markdown",
   "source": [
    "## Headline Sentiment Analysis Model Training\n",
    "\n",
    "This notebook fine-tunes a Microsoft MiniLM-L12-H384-uncased transformer model for regression-based sentiment analysis of headlines. The model is trained to predict continuous sentiment scores rather than discrete classes. It leverages the Hugging Face toolkit to handle tokenisation.\n",
    "\n",
    "### Overview\n",
    "- **Base Model**: Microsoft MiniLM-L12-H384-uncased (384-dimensional, 12-layer transformer)\n",
    "- **Task**: Sequence classification for regression (sentiment scoring)\n",
    "- **Dataset**: CSV file containing headline text data and ratings\n",
    "- **Hardware**: This notebook is written for Apple Silicon.\n",
    "\n",
    "### Training Configuration\n",
    "- **Data Split**: 80% train, 10% validation, 10% test\n",
    "- **Epochs**: 10\n",
    "- **Evaluation Strategy**: Per epoch with MSE-based early stopping\n",
    "\n",
    "### Output\n",
    "The trained model is saved to `/models/` and evaluated on the test set with final MSE, MAE, and loss metrics."
   ],
   "id": "edd0555d9a1e320c"
  },
  {
   "cell_type": "code",
   "id": "initial_id",
   "metadata": {
    "collapsed": true
   },
   "source": [
    "from transformers import AutoTokenizer, AutoModelForSequenceClassification, Trainer, TrainingArguments, DataCollatorWithPadding\n",
    "from datasets import load_dataset\n",
    "from sklearn.metrics import mean_squared_error, mean_absolute_error"
   ],
   "outputs": [],
   "execution_count": null
  },
  {
   "metadata": {},
   "cell_type": "code",
   "source": [
    "checkpoint = \"microsoft/MiniLM-L12-H384-uncased\"\n",
    "\n",
    "tokeniser = AutoTokenizer.from_pretrained(checkpoint)\n",
    "model = AutoModelForSequenceClassification.from_pretrained(\n",
    "    checkpoint,\n",
    "    num_labels=1,\n",
    "    problem_type=\"regression\"\n",
    ")\n",
    "model.to(\"mps\")"
   ],
   "id": "362673e7410e2cb",
   "outputs": [],
   "execution_count": null
  },
  {
   "metadata": {},
   "cell_type": "code",
   "source": [
    "def tokenize_function(examples):\n",
    "    return tokeniser(\n",
    "        examples['text'],\n",
    "        truncation=True,\n",
    "        padding=True,\n",
    "        max_length=512,\n",
    "    )"
   ],
   "id": "b02276347efa430d",
   "outputs": [],
   "execution_count": null
  },
  {
   "metadata": {},
   "cell_type": "code",
   "source": [
    "dataset = load_dataset(\"csv\", data_files=\"/data/headline_data.csv\")\n",
    "dataset = dataset.map(tokenize_function)\n",
    "dataset = dataset[\"train\"].train_test_split(test_size=0.2)\n",
    "\n",
    "train_dataset = dataset[\"train\"]\n",
    "dataset = dataset[\"test\"].train_test_split(test_size=0.5)\n",
    "validation_dataset = dataset[\"train\"]\n",
    "test_dataset = dataset[\"test\"]"
   ],
   "id": "79f96923973f2c6f",
   "outputs": [],
   "execution_count": null
  },
  {
   "metadata": {},
   "cell_type": "code",
   "source": [
    "def compute_metrics(eval_pred):\n",
    "    predictions, labels = eval_pred\n",
    "    predictions = predictions.flatten()\n",
    "    labels = labels.flatten()\n",
    "\n",
    "    return {\n",
    "        \"mse\": mean_squared_error(labels, predictions),\n",
    "        \"mae\": mean_absolute_error(labels, predictions),\n",
    "    }"
   ],
   "id": "3f1d8e579e16bd77",
   "outputs": [],
   "execution_count": null
  },
  {
   "metadata": {},
   "cell_type": "code",
   "source": [
    "data_collator = DataCollatorWithPadding(tokenizer=tokeniser)\n",
    "training_args = TrainingArguments(\n",
    "    output_dir=\"/models\",\n",
    "    eval_strategy=\"epoch\",\n",
    "    save_strategy=\"epoch\",\n",
    "    logging_dir=\"/logs\",\n",
    "    per_device_train_batch_size=16,\n",
    "    per_device_eval_batch_size=16,\n",
    "    num_train_epochs=10,\n",
    "    weight_decay=0.01,\n",
    "    logging_steps=10,\n",
    "    load_best_model_at_end=True,\n",
    "    metric_for_best_model=\"mse\",\n",
    "    greater_is_better=False,\n",
    "    save_total_limit=2,\n",
    "    dataloader_num_workers=0,\n",
    "    push_to_hub=False,\n",
    ")"
   ],
   "id": "e4fba644449f5ed",
   "outputs": [],
   "execution_count": null
  },
  {
   "metadata": {},
   "cell_type": "code",
   "source": [
    "trainer = Trainer(\n",
    "    model=model,\n",
    "    args=training_args,\n",
    "    train_dataset=train_dataset,\n",
    "    eval_dataset=validation_dataset,\n",
    "    data_collator=data_collator,\n",
    "    compute_metrics=compute_metrics,\n",
    ")\n",
    "trainer.train()"
   ],
   "id": "7e48f54d3c215a9c",
   "outputs": [],
   "execution_count": null
  },
  {
   "metadata": {},
   "cell_type": "code",
   "source": [
    "test_results = trainer.evaluate(eval_dataset=test_dataset)\n",
    "\n",
    "print(f\"Test MSE: {test_results['eval_mse']:.4f}\")\n",
    "print(f\"Test MAE: {test_results['eval_mae']:.4f}\")\n",
    "print(f\"Test Loss: {test_results['eval_loss']:.4f}\")"
   ],
   "id": "9daa9b3f376aac14",
   "outputs": [],
   "execution_count": null
  },
  {
   "metadata": {},
   "cell_type": "code",
   "source": "trainer.save_model()",
   "id": "a56745636f77accb",
   "outputs": [],
   "execution_count": null
  }
 ],
 "metadata": {
  "kernelspec": {
   "display_name": "Python 3",
   "language": "python",
   "name": "python3"
  },
  "language_info": {
   "codemirror_mode": {
    "name": "ipython",
    "version": 2
   },
   "file_extension": ".py",
   "mimetype": "text/x-python",
   "name": "python",
   "nbconvert_exporter": "python",
   "pygments_lexer": "ipython2",
   "version": "2.7.6"
  }
 },
 "nbformat": 4,
 "nbformat_minor": 5
}
